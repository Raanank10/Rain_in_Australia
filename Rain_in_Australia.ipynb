{
  "nbformat": 4,
  "nbformat_minor": 0,
  "metadata": {
    "colab": {
      "name": "Rain_in_Australia.ipynb",
      "provenance": [],
      "include_colab_link": true
    },
    "kernelspec": {
      "name": "python3",
      "display_name": "Python 3"
    },
    "language_info": {
      "name": "python"
    }
  },
  "cells": [
    {
      "cell_type": "markdown",
      "metadata": {
        "id": "view-in-github",
        "colab_type": "text"
      },
      "source": [
        "<a href=\"https://colab.research.google.com/github/Raanank10/Rain_in_Australia/blob/Elad_20210706_2/Rain_in_Australia.ipynb\" target=\"_parent\"><img src=\"https://colab.research.google.com/assets/colab-badge.svg\" alt=\"Open In Colab\"/></a>"
      ]
    },
    {
      "cell_type": "markdown",
      "metadata": {
        "id": "IVHu64of9XeY"
      },
      "source": [
        "# Rain in Australia EDA\n"
      ]
    },
    {
      "cell_type": "code",
      "metadata": {
        "id": "w8o-bHNWucl9"
      },
      "source": [
        "# General tools\n",
        "import numpy as np\n",
        "import scipy as sp\n",
        "import pandas as pd\n",
        "\n",
        "# SK Learn\n",
        "from sklearn.metrics import confusion_matrix, accuracy_score\n",
        "from sklearn.metrics import precision_score, recall_score, f1_score\n",
        "from sklearn.metrics import log_loss\n",
        "\n",
        "# Misc\n",
        "import warnings\n",
        "from sys import modules\n",
        "from time import time\n",
        "\n",
        "# Visualization\n",
        "import matplotlib.pyplot as plt\n",
        "import seaborn as sns\n",
        "import missingno as msno\n",
        "\n",
        "# Confuguration\n",
        "warnings.filterwarnings('ignore')\n",
        "%matplotlib inline"
      ],
      "execution_count": null,
      "outputs": []
    },
    {
      "cell_type": "markdown",
      "metadata": {
        "id": "x7E8SnpR9qZ-"
      },
      "source": [
        "# Load Data"
      ]
    },
    {
      "cell_type": "code",
      "metadata": {
        "colab": {
          "base_uri": "https://localhost:8080/",
          "height": 547
        },
        "id": "Ih3DywB0xL_P",
        "outputId": "c7ebac7c-23bd-438a-afe4-a9620a21d3db"
      },
      "source": [
        "url = 'https://raw.githubusercontent.com/Raanank10/Rain_in_Australia/main/weatherAUS.csv'\n",
        "\n",
        "data = pd.read_csv(url)\n",
        "data.head(10)"
      ],
      "execution_count": null,
      "outputs": [
        {
          "output_type": "execute_result",
          "data": {
            "text/html": [
              "<div>\n",
              "<style scoped>\n",
              "    .dataframe tbody tr th:only-of-type {\n",
              "        vertical-align: middle;\n",
              "    }\n",
              "\n",
              "    .dataframe tbody tr th {\n",
              "        vertical-align: top;\n",
              "    }\n",
              "\n",
              "    .dataframe thead th {\n",
              "        text-align: right;\n",
              "    }\n",
              "</style>\n",
              "<table border=\"1\" class=\"dataframe\">\n",
              "  <thead>\n",
              "    <tr style=\"text-align: right;\">\n",
              "      <th></th>\n",
              "      <th>Date</th>\n",
              "      <th>Location</th>\n",
              "      <th>MinTemp</th>\n",
              "      <th>MaxTemp</th>\n",
              "      <th>Rainfall</th>\n",
              "      <th>Evaporation</th>\n",
              "      <th>Sunshine</th>\n",
              "      <th>WindGustDir</th>\n",
              "      <th>WindGustSpeed</th>\n",
              "      <th>WindDir9am</th>\n",
              "      <th>WindDir3pm</th>\n",
              "      <th>WindSpeed9am</th>\n",
              "      <th>WindSpeed3pm</th>\n",
              "      <th>Humidity9am</th>\n",
              "      <th>Humidity3pm</th>\n",
              "      <th>Pressure9am</th>\n",
              "      <th>Pressure3pm</th>\n",
              "      <th>Cloud9am</th>\n",
              "      <th>Cloud3pm</th>\n",
              "      <th>Temp9am</th>\n",
              "      <th>Temp3pm</th>\n",
              "      <th>RainToday</th>\n",
              "      <th>RainTomorrow</th>\n",
              "    </tr>\n",
              "  </thead>\n",
              "  <tbody>\n",
              "    <tr>\n",
              "      <th>0</th>\n",
              "      <td>2008-12-01</td>\n",
              "      <td>Albury</td>\n",
              "      <td>13.4</td>\n",
              "      <td>22.9</td>\n",
              "      <td>0.6</td>\n",
              "      <td>NaN</td>\n",
              "      <td>NaN</td>\n",
              "      <td>W</td>\n",
              "      <td>44.0</td>\n",
              "      <td>W</td>\n",
              "      <td>WNW</td>\n",
              "      <td>20.0</td>\n",
              "      <td>24.0</td>\n",
              "      <td>71.0</td>\n",
              "      <td>22.0</td>\n",
              "      <td>1007.7</td>\n",
              "      <td>1007.1</td>\n",
              "      <td>8.0</td>\n",
              "      <td>NaN</td>\n",
              "      <td>16.9</td>\n",
              "      <td>21.8</td>\n",
              "      <td>No</td>\n",
              "      <td>No</td>\n",
              "    </tr>\n",
              "    <tr>\n",
              "      <th>1</th>\n",
              "      <td>2008-12-02</td>\n",
              "      <td>Albury</td>\n",
              "      <td>7.4</td>\n",
              "      <td>25.1</td>\n",
              "      <td>0.0</td>\n",
              "      <td>NaN</td>\n",
              "      <td>NaN</td>\n",
              "      <td>WNW</td>\n",
              "      <td>44.0</td>\n",
              "      <td>NNW</td>\n",
              "      <td>WSW</td>\n",
              "      <td>4.0</td>\n",
              "      <td>22.0</td>\n",
              "      <td>44.0</td>\n",
              "      <td>25.0</td>\n",
              "      <td>1010.6</td>\n",
              "      <td>1007.8</td>\n",
              "      <td>NaN</td>\n",
              "      <td>NaN</td>\n",
              "      <td>17.2</td>\n",
              "      <td>24.3</td>\n",
              "      <td>No</td>\n",
              "      <td>No</td>\n",
              "    </tr>\n",
              "    <tr>\n",
              "      <th>2</th>\n",
              "      <td>2008-12-03</td>\n",
              "      <td>Albury</td>\n",
              "      <td>12.9</td>\n",
              "      <td>25.7</td>\n",
              "      <td>0.0</td>\n",
              "      <td>NaN</td>\n",
              "      <td>NaN</td>\n",
              "      <td>WSW</td>\n",
              "      <td>46.0</td>\n",
              "      <td>W</td>\n",
              "      <td>WSW</td>\n",
              "      <td>19.0</td>\n",
              "      <td>26.0</td>\n",
              "      <td>38.0</td>\n",
              "      <td>30.0</td>\n",
              "      <td>1007.6</td>\n",
              "      <td>1008.7</td>\n",
              "      <td>NaN</td>\n",
              "      <td>2.0</td>\n",
              "      <td>21.0</td>\n",
              "      <td>23.2</td>\n",
              "      <td>No</td>\n",
              "      <td>No</td>\n",
              "    </tr>\n",
              "    <tr>\n",
              "      <th>3</th>\n",
              "      <td>2008-12-04</td>\n",
              "      <td>Albury</td>\n",
              "      <td>9.2</td>\n",
              "      <td>28.0</td>\n",
              "      <td>0.0</td>\n",
              "      <td>NaN</td>\n",
              "      <td>NaN</td>\n",
              "      <td>NE</td>\n",
              "      <td>24.0</td>\n",
              "      <td>SE</td>\n",
              "      <td>E</td>\n",
              "      <td>11.0</td>\n",
              "      <td>9.0</td>\n",
              "      <td>45.0</td>\n",
              "      <td>16.0</td>\n",
              "      <td>1017.6</td>\n",
              "      <td>1012.8</td>\n",
              "      <td>NaN</td>\n",
              "      <td>NaN</td>\n",
              "      <td>18.1</td>\n",
              "      <td>26.5</td>\n",
              "      <td>No</td>\n",
              "      <td>No</td>\n",
              "    </tr>\n",
              "    <tr>\n",
              "      <th>4</th>\n",
              "      <td>2008-12-05</td>\n",
              "      <td>Albury</td>\n",
              "      <td>17.5</td>\n",
              "      <td>32.3</td>\n",
              "      <td>1.0</td>\n",
              "      <td>NaN</td>\n",
              "      <td>NaN</td>\n",
              "      <td>W</td>\n",
              "      <td>41.0</td>\n",
              "      <td>ENE</td>\n",
              "      <td>NW</td>\n",
              "      <td>7.0</td>\n",
              "      <td>20.0</td>\n",
              "      <td>82.0</td>\n",
              "      <td>33.0</td>\n",
              "      <td>1010.8</td>\n",
              "      <td>1006.0</td>\n",
              "      <td>7.0</td>\n",
              "      <td>8.0</td>\n",
              "      <td>17.8</td>\n",
              "      <td>29.7</td>\n",
              "      <td>No</td>\n",
              "      <td>No</td>\n",
              "    </tr>\n",
              "    <tr>\n",
              "      <th>5</th>\n",
              "      <td>2008-12-06</td>\n",
              "      <td>Albury</td>\n",
              "      <td>14.6</td>\n",
              "      <td>29.7</td>\n",
              "      <td>0.2</td>\n",
              "      <td>NaN</td>\n",
              "      <td>NaN</td>\n",
              "      <td>WNW</td>\n",
              "      <td>56.0</td>\n",
              "      <td>W</td>\n",
              "      <td>W</td>\n",
              "      <td>19.0</td>\n",
              "      <td>24.0</td>\n",
              "      <td>55.0</td>\n",
              "      <td>23.0</td>\n",
              "      <td>1009.2</td>\n",
              "      <td>1005.4</td>\n",
              "      <td>NaN</td>\n",
              "      <td>NaN</td>\n",
              "      <td>20.6</td>\n",
              "      <td>28.9</td>\n",
              "      <td>No</td>\n",
              "      <td>No</td>\n",
              "    </tr>\n",
              "    <tr>\n",
              "      <th>6</th>\n",
              "      <td>2008-12-07</td>\n",
              "      <td>Albury</td>\n",
              "      <td>14.3</td>\n",
              "      <td>25.0</td>\n",
              "      <td>0.0</td>\n",
              "      <td>NaN</td>\n",
              "      <td>NaN</td>\n",
              "      <td>W</td>\n",
              "      <td>50.0</td>\n",
              "      <td>SW</td>\n",
              "      <td>W</td>\n",
              "      <td>20.0</td>\n",
              "      <td>24.0</td>\n",
              "      <td>49.0</td>\n",
              "      <td>19.0</td>\n",
              "      <td>1009.6</td>\n",
              "      <td>1008.2</td>\n",
              "      <td>1.0</td>\n",
              "      <td>NaN</td>\n",
              "      <td>18.1</td>\n",
              "      <td>24.6</td>\n",
              "      <td>No</td>\n",
              "      <td>No</td>\n",
              "    </tr>\n",
              "    <tr>\n",
              "      <th>7</th>\n",
              "      <td>2008-12-08</td>\n",
              "      <td>Albury</td>\n",
              "      <td>7.7</td>\n",
              "      <td>26.7</td>\n",
              "      <td>0.0</td>\n",
              "      <td>NaN</td>\n",
              "      <td>NaN</td>\n",
              "      <td>W</td>\n",
              "      <td>35.0</td>\n",
              "      <td>SSE</td>\n",
              "      <td>W</td>\n",
              "      <td>6.0</td>\n",
              "      <td>17.0</td>\n",
              "      <td>48.0</td>\n",
              "      <td>19.0</td>\n",
              "      <td>1013.4</td>\n",
              "      <td>1010.1</td>\n",
              "      <td>NaN</td>\n",
              "      <td>NaN</td>\n",
              "      <td>16.3</td>\n",
              "      <td>25.5</td>\n",
              "      <td>No</td>\n",
              "      <td>No</td>\n",
              "    </tr>\n",
              "    <tr>\n",
              "      <th>8</th>\n",
              "      <td>2008-12-09</td>\n",
              "      <td>Albury</td>\n",
              "      <td>9.7</td>\n",
              "      <td>31.9</td>\n",
              "      <td>0.0</td>\n",
              "      <td>NaN</td>\n",
              "      <td>NaN</td>\n",
              "      <td>NNW</td>\n",
              "      <td>80.0</td>\n",
              "      <td>SE</td>\n",
              "      <td>NW</td>\n",
              "      <td>7.0</td>\n",
              "      <td>28.0</td>\n",
              "      <td>42.0</td>\n",
              "      <td>9.0</td>\n",
              "      <td>1008.9</td>\n",
              "      <td>1003.6</td>\n",
              "      <td>NaN</td>\n",
              "      <td>NaN</td>\n",
              "      <td>18.3</td>\n",
              "      <td>30.2</td>\n",
              "      <td>No</td>\n",
              "      <td>Yes</td>\n",
              "    </tr>\n",
              "    <tr>\n",
              "      <th>9</th>\n",
              "      <td>2008-12-10</td>\n",
              "      <td>Albury</td>\n",
              "      <td>13.1</td>\n",
              "      <td>30.1</td>\n",
              "      <td>1.4</td>\n",
              "      <td>NaN</td>\n",
              "      <td>NaN</td>\n",
              "      <td>W</td>\n",
              "      <td>28.0</td>\n",
              "      <td>S</td>\n",
              "      <td>SSE</td>\n",
              "      <td>15.0</td>\n",
              "      <td>11.0</td>\n",
              "      <td>58.0</td>\n",
              "      <td>27.0</td>\n",
              "      <td>1007.0</td>\n",
              "      <td>1005.7</td>\n",
              "      <td>NaN</td>\n",
              "      <td>NaN</td>\n",
              "      <td>20.1</td>\n",
              "      <td>28.2</td>\n",
              "      <td>Yes</td>\n",
              "      <td>No</td>\n",
              "    </tr>\n",
              "  </tbody>\n",
              "</table>\n",
              "</div>"
            ],
            "text/plain": [
              "         Date Location  MinTemp  ...  Temp3pm  RainToday  RainTomorrow\n",
              "0  2008-12-01   Albury     13.4  ...     21.8         No            No\n",
              "1  2008-12-02   Albury      7.4  ...     24.3         No            No\n",
              "2  2008-12-03   Albury     12.9  ...     23.2         No            No\n",
              "3  2008-12-04   Albury      9.2  ...     26.5         No            No\n",
              "4  2008-12-05   Albury     17.5  ...     29.7         No            No\n",
              "5  2008-12-06   Albury     14.6  ...     28.9         No            No\n",
              "6  2008-12-07   Albury     14.3  ...     24.6         No            No\n",
              "7  2008-12-08   Albury      7.7  ...     25.5         No            No\n",
              "8  2008-12-09   Albury      9.7  ...     30.2         No           Yes\n",
              "9  2008-12-10   Albury     13.1  ...     28.2        Yes            No\n",
              "\n",
              "[10 rows x 23 columns]"
            ]
          },
          "metadata": {
            "tags": []
          },
          "execution_count": 72
        }
      ]
    },
    {
      "cell_type": "markdown",
      "metadata": {
        "id": "NdvCnL5t9TuJ"
      },
      "source": [
        ""
      ]
    },
    {
      "cell_type": "code",
      "metadata": {
        "colab": {
          "base_uri": "https://localhost:8080/"
        },
        "id": "SISFSTH3ygrB",
        "outputId": "380d57e4-e0d3-4e52-81ed-be9d54b2fae0"
      },
      "source": [
        "data.info()"
      ],
      "execution_count": null,
      "outputs": [
        {
          "output_type": "stream",
          "text": [
            "<class 'pandas.core.frame.DataFrame'>\n",
            "RangeIndex: 145460 entries, 0 to 145459\n",
            "Data columns (total 23 columns):\n",
            " #   Column         Non-Null Count   Dtype  \n",
            "---  ------         --------------   -----  \n",
            " 0   Date           145460 non-null  object \n",
            " 1   Location       145460 non-null  object \n",
            " 2   MinTemp        143975 non-null  float64\n",
            " 3   MaxTemp        144199 non-null  float64\n",
            " 4   Rainfall       142199 non-null  float64\n",
            " 5   Evaporation    82670 non-null   float64\n",
            " 6   Sunshine       75625 non-null   float64\n",
            " 7   WindGustDir    135134 non-null  object \n",
            " 8   WindGustSpeed  135197 non-null  float64\n",
            " 9   WindDir9am     134894 non-null  object \n",
            " 10  WindDir3pm     141232 non-null  object \n",
            " 11  WindSpeed9am   143693 non-null  float64\n",
            " 12  WindSpeed3pm   142398 non-null  float64\n",
            " 13  Humidity9am    142806 non-null  float64\n",
            " 14  Humidity3pm    140953 non-null  float64\n",
            " 15  Pressure9am    130395 non-null  float64\n",
            " 16  Pressure3pm    130432 non-null  float64\n",
            " 17  Cloud9am       89572 non-null   float64\n",
            " 18  Cloud3pm       86102 non-null   float64\n",
            " 19  Temp9am        143693 non-null  float64\n",
            " 20  Temp3pm        141851 non-null  float64\n",
            " 21  RainToday      142199 non-null  object \n",
            " 22  RainTomorrow   142193 non-null  object \n",
            "dtypes: float64(16), object(7)\n",
            "memory usage: 25.5+ MB\n"
          ],
          "name": "stdout"
        }
      ]
    },
    {
      "cell_type": "code",
      "metadata": {
        "id": "dZ-9Nsi1Cy3W"
      },
      "source": [
        "#elad 2021 Jul 05"
      ],
      "execution_count": null,
      "outputs": []
    },
    {
      "cell_type": "markdown",
      "metadata": {
        "id": "AKaVZAbI951e"
      },
      "source": [
        "# Data Cleaning"
      ]
    },
    {
      "cell_type": "code",
      "metadata": {
        "colab": {
          "base_uri": "https://localhost:8080/"
        },
        "id": "UTjYf-eHyre-",
        "outputId": "971411d1-a830-4002-a9de-9010e055016e"
      },
      "source": [
        "data.nunique()"
      ],
      "execution_count": null,
      "outputs": [
        {
          "output_type": "execute_result",
          "data": {
            "text/plain": [
              "Date             3436\n",
              "Location           49\n",
              "MinTemp           389\n",
              "MaxTemp           505\n",
              "Rainfall          681\n",
              "Evaporation       358\n",
              "Sunshine          145\n",
              "WindGustDir        16\n",
              "WindGustSpeed      67\n",
              "WindDir9am         16\n",
              "WindDir3pm         16\n",
              "WindSpeed9am       43\n",
              "WindSpeed3pm       44\n",
              "Humidity9am       101\n",
              "Humidity3pm       101\n",
              "Pressure9am       546\n",
              "Pressure3pm       549\n",
              "Cloud9am           10\n",
              "Cloud3pm           10\n",
              "Temp9am           441\n",
              "Temp3pm           502\n",
              "RainToday           2\n",
              "RainTomorrow        2\n",
              "dtype: int64"
            ]
          },
          "metadata": {
            "tags": []
          },
          "execution_count": 75
        }
      ]
    },
    {
      "cell_type": "code",
      "metadata": {
        "colab": {
          "base_uri": "https://localhost:8080/"
        },
        "id": "rAkqehQM0Vhf",
        "outputId": "fd98a187-6aec-4812-8344-2bc53d227ebc"
      },
      "source": [
        "unique_data = data.drop_duplicates(inplace=False)\n",
        "unique_data.info()"
      ],
      "execution_count": null,
      "outputs": [
        {
          "output_type": "stream",
          "text": [
            "<class 'pandas.core.frame.DataFrame'>\n",
            "Int64Index: 145460 entries, 0 to 145459\n",
            "Data columns (total 23 columns):\n",
            " #   Column         Non-Null Count   Dtype  \n",
            "---  ------         --------------   -----  \n",
            " 0   Date           145460 non-null  object \n",
            " 1   Location       145460 non-null  object \n",
            " 2   MinTemp        143975 non-null  float64\n",
            " 3   MaxTemp        144199 non-null  float64\n",
            " 4   Rainfall       142199 non-null  float64\n",
            " 5   Evaporation    82670 non-null   float64\n",
            " 6   Sunshine       75625 non-null   float64\n",
            " 7   WindGustDir    135134 non-null  object \n",
            " 8   WindGustSpeed  135197 non-null  float64\n",
            " 9   WindDir9am     134894 non-null  object \n",
            " 10  WindDir3pm     141232 non-null  object \n",
            " 11  WindSpeed9am   143693 non-null  float64\n",
            " 12  WindSpeed3pm   142398 non-null  float64\n",
            " 13  Humidity9am    142806 non-null  float64\n",
            " 14  Humidity3pm    140953 non-null  float64\n",
            " 15  Pressure9am    130395 non-null  float64\n",
            " 16  Pressure3pm    130432 non-null  float64\n",
            " 17  Cloud9am       89572 non-null   float64\n",
            " 18  Cloud3pm       86102 non-null   float64\n",
            " 19  Temp9am        143693 non-null  float64\n",
            " 20  Temp3pm        141851 non-null  float64\n",
            " 21  RainToday      142199 non-null  object \n",
            " 22  RainTomorrow   142193 non-null  object \n",
            "dtypes: float64(16), object(7)\n",
            "memory usage: 26.6+ MB\n"
          ],
          "name": "stdout"
        }
      ]
    },
    {
      "cell_type": "code",
      "metadata": {
        "colab": {
          "base_uri": "https://localhost:8080/"
        },
        "id": "gM-37iNB012K",
        "outputId": "6de42db5-dd7c-490c-a2d0-84eee8f9c551"
      },
      "source": [
        "unique_data.isnull().sum()"
      ],
      "execution_count": null,
      "outputs": [
        {
          "output_type": "execute_result",
          "data": {
            "text/plain": [
              "Date                 0\n",
              "Location             0\n",
              "MinTemp           1485\n",
              "MaxTemp           1261\n",
              "Rainfall          3261\n",
              "Evaporation      62790\n",
              "Sunshine         69835\n",
              "WindGustDir      10326\n",
              "WindGustSpeed    10263\n",
              "WindDir9am       10566\n",
              "WindDir3pm        4228\n",
              "WindSpeed9am      1767\n",
              "WindSpeed3pm      3062\n",
              "Humidity9am       2654\n",
              "Humidity3pm       4507\n",
              "Pressure9am      15065\n",
              "Pressure3pm      15028\n",
              "Cloud9am         55888\n",
              "Cloud3pm         59358\n",
              "Temp9am           1767\n",
              "Temp3pm           3609\n",
              "RainToday         3261\n",
              "RainTomorrow      3267\n",
              "dtype: int64"
            ]
          },
          "metadata": {
            "tags": []
          },
          "execution_count": 77
        }
      ]
    },
    {
      "cell_type": "markdown",
      "metadata": {
        "id": "pF3rjUeJDhX8"
      },
      "source": [
        "Drop all rows where RainToday is Nan, Drop all rows where RainTomorrow is Nan"
      ]
    },
    {
      "cell_type": "code",
      "metadata": {
        "colab": {
          "base_uri": "https://localhost:8080/"
        },
        "id": "9lBeJJnnDolq",
        "outputId": "bd2dc476-943f-4fc5-aabc-00c30eadd54a"
      },
      "source": [
        "#data[data['RainToday'].notna() && data['RainTomorrow'].notna()]\n",
        "print(f'data len = {len(data)}')\n",
        "data = data[data['RainToday'].notna()]\n",
        "print(f'data len = {len(data)}')\n",
        "data = data[data['RainTomorrow'].notna()]\n",
        "print(f'data len = {len(data)}')"
      ],
      "execution_count": null,
      "outputs": [
        {
          "output_type": "stream",
          "text": [
            "data len = 145460\n",
            "data len = 142199\n",
            "data len = 140787\n"
          ],
          "name": "stdout"
        }
      ]
    },
    {
      "cell_type": "markdown",
      "metadata": {
        "id": "DL3N9pVO07Ih"
      },
      "source": [
        "what do we do with missing data? ignore or mean or median? I think mean only if the feature is important "
      ]
    },
    {
      "cell_type": "code",
      "metadata": {
        "colab": {
          "base_uri": "https://localhost:8080/",
          "height": 712
        },
        "id": "Wk1K3yFw5nAT",
        "outputId": "ed021c4b-f6fd-4029-e616-1ba8d037be27"
      },
      "source": [
        "msno.matrix(data)"
      ],
      "execution_count": null,
      "outputs": [
        {
          "output_type": "execute_result",
          "data": {
            "text/plain": [
              "<matplotlib.axes._subplots.AxesSubplot at 0x7f5ac6d1a650>"
            ]
          },
          "metadata": {
            "tags": []
          },
          "execution_count": 79
        },
        {
          "output_type": "display_data",
          "data": {
            "image/png": "[encoded data removed]",
            "text/plain": [
              "<Figure size 1800x720 with 2 Axes>"
            ]
          },
          "metadata": {
            "tags": [],
            "needs_background": "light"
          }
        }
      ]
    },
    {
      "cell_type": "code",
      "metadata": {
        "colab": {
          "base_uri": "https://localhost:8080/",
          "height": 652
        },
        "id": "_SB3W6eQ1AXR",
        "outputId": "ed2fd2fa-1709-4070-b7ac-a36b2fe849d1"
      },
      "source": [
        "msno.bar(data, figsize=(20, 8))"
      ],
      "execution_count": null,
      "outputs": [
        {
          "output_type": "execute_result",
          "data": {
            "text/plain": [
              "<matplotlib.axes._subplots.AxesSubplot at 0x7f5ac590fb10>"
            ]
          },
          "metadata": {
            "tags": []
          },
          "execution_count": 80
        },
        {
          "output_type": "display_data",
          "data": {
            "image/png": "[encoded data removed]",
            "text/plain": [
              "<Figure size 1440x576 with 3 Axes>"
            ]
          },
          "metadata": {
            "tags": [],
            "needs_background": "light"
          }
        }
      ]
    },
    {
      "cell_type": "markdown",
      "metadata": {
        "id": "3-1wGddxD_gu"
      },
      "source": [
        "Convert RainToday and RainTomorrow to int\n",
        "\n"
      ]
    },
    {
      "cell_type": "code",
      "metadata": {
        "id": "Tkozo1_MEKST"
      },
      "source": [
        "data['RainToday'] = data.RainToday.apply(lambda x: 1 if x == 'Yes' else 0)\n",
        "data['RainTomorrow'] = data.RainTomorrow.apply(lambda x: 1 if x == 'Yes' else 0)"
      ],
      "execution_count": null,
      "outputs": []
    },
    {
      "cell_type": "code",
      "metadata": {
        "colab": {
          "base_uri": "https://localhost:8080/"
        },
        "id": "QMAwPKn7EbyC",
        "outputId": "bc53bc44-8a2e-4a42-fcff-da70ac679e42"
      },
      "source": [
        "data.RainToday.value_counts()"
      ],
      "execution_count": null,
      "outputs": [
        {
          "output_type": "execute_result",
          "data": {
            "text/plain": [
              "0    109332\n",
              "1     31455\n",
              "Name: RainToday, dtype: int64"
            ]
          },
          "metadata": {
            "tags": []
          },
          "execution_count": 82
        }
      ]
    },
    {
      "cell_type": "code",
      "metadata": {
        "colab": {
          "base_uri": "https://localhost:8080/"
        },
        "id": "LU2YQJulEcZi",
        "outputId": "5c215964-de97-4af3-def8-2446c80b4363"
      },
      "source": [
        "data.RainTomorrow.value_counts()"
      ],
      "execution_count": null,
      "outputs": [
        {
          "output_type": "execute_result",
          "data": {
            "text/plain": [
              "0    109586\n",
              "1     31201\n",
              "Name: RainTomorrow, dtype: int64"
            ]
          },
          "metadata": {
            "tags": []
          },
          "execution_count": 83
        }
      ]
    },
    {
      "cell_type": "code",
      "metadata": {
        "id": "xvWO0HsBGBfK",
        "colab": {
          "base_uri": "https://localhost:8080/"
        },
        "outputId": "2acda4bd-bfc7-4f5c-8284-54e83d65612d"
      },
      "source": [
        "unique_data = data.drop_duplicates(inplace=False)\n",
        "unique_data.info()"
      ],
      "execution_count": null,
      "outputs": [
        {
          "output_type": "stream",
          "text": [
            "<class 'pandas.core.frame.DataFrame'>\n",
            "Int64Index: 140787 entries, 0 to 145458\n",
            "Data columns (total 23 columns):\n",
            " #   Column         Non-Null Count   Dtype  \n",
            "---  ------         --------------   -----  \n",
            " 0   Date           140787 non-null  object \n",
            " 1   Location       140787 non-null  object \n",
            " 2   MinTemp        140319 non-null  float64\n",
            " 3   MaxTemp        140480 non-null  float64\n",
            " 4   Rainfall       140787 non-null  float64\n",
            " 5   Evaporation    81093 non-null   float64\n",
            " 6   Sunshine       73982 non-null   float64\n",
            " 7   WindGustDir    131624 non-null  object \n",
            " 8   WindGustSpeed  131682 non-null  float64\n",
            " 9   WindDir9am     131127 non-null  object \n",
            " 10  WindDir3pm     137117 non-null  object \n",
            " 11  WindSpeed9am   139732 non-null  float64\n",
            " 12  WindSpeed3pm   138256 non-null  float64\n",
            " 13  Humidity9am    139270 non-null  float64\n",
            " 14  Humidity3pm    137286 non-null  float64\n",
            " 15  Pressure9am    127044 non-null  float64\n",
            " 16  Pressure3pm    127018 non-null  float64\n",
            " 17  Cloud9am       88162 non-null   float64\n",
            " 18  Cloud3pm       84693 non-null   float64\n",
            " 19  Temp9am        140131 non-null  float64\n",
            " 20  Temp3pm        138163 non-null  float64\n",
            " 21  RainToday      140787 non-null  int64  \n",
            " 22  RainTomorrow   140787 non-null  int64  \n",
            "dtypes: float64(16), int64(2), object(5)\n",
            "memory usage: 25.8+ MB\n"
          ],
          "name": "stdout"
        }
      ]
    },
    {
      "cell_type": "code",
      "metadata": {
        "colab": {
          "base_uri": "https://localhost:8080/",
          "height": 316
        },
        "id": "QyJNUTxfE_PH",
        "outputId": "405417b7-b0a7-4b71-a42d-181d95aee4bb"
      },
      "source": [
        "unique_data.describe()"
      ],
      "execution_count": null,
      "outputs": [
        {
          "output_type": "execute_result",
          "data": {
            "text/html": [
              "<div>\n",
              "<style scoped>\n",
              "    .dataframe tbody tr th:only-of-type {\n",
              "        vertical-align: middle;\n",
              "    }\n",
              "\n",
              "    .dataframe tbody tr th {\n",
              "        vertical-align: top;\n",
              "    }\n",
              "\n",
              "    .dataframe thead th {\n",
              "        text-align: right;\n",
              "    }\n",
              "</style>\n",
              "<table border=\"1\" class=\"dataframe\">\n",
              "  <thead>\n",
              "    <tr style=\"text-align: right;\">\n",
              "      <th></th>\n",
              "      <th>MinTemp</th>\n",
              "      <th>MaxTemp</th>\n",
              "      <th>Rainfall</th>\n",
              "      <th>Evaporation</th>\n",
              "      <th>Sunshine</th>\n",
              "      <th>WindGustSpeed</th>\n",
              "      <th>WindSpeed9am</th>\n",
              "      <th>WindSpeed3pm</th>\n",
              "      <th>Humidity9am</th>\n",
              "      <th>Humidity3pm</th>\n",
              "      <th>Pressure9am</th>\n",
              "      <th>Pressure3pm</th>\n",
              "      <th>Cloud9am</th>\n",
              "      <th>Cloud3pm</th>\n",
              "      <th>Temp9am</th>\n",
              "      <th>Temp3pm</th>\n",
              "      <th>RainToday</th>\n",
              "      <th>RainTomorrow</th>\n",
              "    </tr>\n",
              "  </thead>\n",
              "  <tbody>\n",
              "    <tr>\n",
              "      <th>count</th>\n",
              "      <td>140319.000000</td>\n",
              "      <td>140480.00000</td>\n",
              "      <td>140787.000000</td>\n",
              "      <td>81093.000000</td>\n",
              "      <td>73982.000000</td>\n",
              "      <td>131682.000000</td>\n",
              "      <td>139732.000000</td>\n",
              "      <td>138256.000000</td>\n",
              "      <td>139270.000000</td>\n",
              "      <td>137286.000000</td>\n",
              "      <td>127044.000000</td>\n",
              "      <td>127018.000000</td>\n",
              "      <td>88162.000000</td>\n",
              "      <td>84693.000000</td>\n",
              "      <td>140131.000000</td>\n",
              "      <td>138163.000000</td>\n",
              "      <td>140787.000000</td>\n",
              "      <td>140787.000000</td>\n",
              "    </tr>\n",
              "    <tr>\n",
              "      <th>mean</th>\n",
              "      <td>12.184824</td>\n",
              "      <td>23.23512</td>\n",
              "      <td>2.349974</td>\n",
              "      <td>5.472516</td>\n",
              "      <td>7.630540</td>\n",
              "      <td>39.970520</td>\n",
              "      <td>13.990496</td>\n",
              "      <td>18.631141</td>\n",
              "      <td>68.826833</td>\n",
              "      <td>51.449288</td>\n",
              "      <td>1017.654577</td>\n",
              "      <td>1015.257963</td>\n",
              "      <td>4.431161</td>\n",
              "      <td>4.499250</td>\n",
              "      <td>16.987066</td>\n",
              "      <td>21.693183</td>\n",
              "      <td>0.223423</td>\n",
              "      <td>0.221618</td>\n",
              "    </tr>\n",
              "    <tr>\n",
              "      <th>std</th>\n",
              "      <td>6.403879</td>\n",
              "      <td>7.11450</td>\n",
              "      <td>8.465173</td>\n",
              "      <td>4.189132</td>\n",
              "      <td>3.781729</td>\n",
              "      <td>13.578201</td>\n",
              "      <td>8.886210</td>\n",
              "      <td>8.798096</td>\n",
              "      <td>19.063650</td>\n",
              "      <td>20.807310</td>\n",
              "      <td>7.104867</td>\n",
              "      <td>7.035411</td>\n",
              "      <td>2.886594</td>\n",
              "      <td>2.719752</td>\n",
              "      <td>6.496012</td>\n",
              "      <td>6.937784</td>\n",
              "      <td>0.416541</td>\n",
              "      <td>0.415337</td>\n",
              "    </tr>\n",
              "    <tr>\n",
              "      <th>min</th>\n",
              "      <td>-8.500000</td>\n",
              "      <td>-4.80000</td>\n",
              "      <td>0.000000</td>\n",
              "      <td>0.000000</td>\n",
              "      <td>0.000000</td>\n",
              "      <td>6.000000</td>\n",
              "      <td>0.000000</td>\n",
              "      <td>0.000000</td>\n",
              "      <td>0.000000</td>\n",
              "      <td>0.000000</td>\n",
              "      <td>980.500000</td>\n",
              "      <td>977.100000</td>\n",
              "      <td>0.000000</td>\n",
              "      <td>0.000000</td>\n",
              "      <td>-7.200000</td>\n",
              "      <td>-5.400000</td>\n",
              "      <td>0.000000</td>\n",
              "      <td>0.000000</td>\n",
              "    </tr>\n",
              "    <tr>\n",
              "      <th>25%</th>\n",
              "      <td>7.600000</td>\n",
              "      <td>17.90000</td>\n",
              "      <td>0.000000</td>\n",
              "      <td>2.600000</td>\n",
              "      <td>4.900000</td>\n",
              "      <td>31.000000</td>\n",
              "      <td>7.000000</td>\n",
              "      <td>13.000000</td>\n",
              "      <td>57.000000</td>\n",
              "      <td>37.000000</td>\n",
              "      <td>1013.000000</td>\n",
              "      <td>1010.400000</td>\n",
              "      <td>1.000000</td>\n",
              "      <td>2.000000</td>\n",
              "      <td>12.300000</td>\n",
              "      <td>16.600000</td>\n",
              "      <td>0.000000</td>\n",
              "      <td>0.000000</td>\n",
              "    </tr>\n",
              "    <tr>\n",
              "      <th>50%</th>\n",
              "      <td>12.000000</td>\n",
              "      <td>22.60000</td>\n",
              "      <td>0.000000</td>\n",
              "      <td>4.800000</td>\n",
              "      <td>8.500000</td>\n",
              "      <td>39.000000</td>\n",
              "      <td>13.000000</td>\n",
              "      <td>19.000000</td>\n",
              "      <td>70.000000</td>\n",
              "      <td>52.000000</td>\n",
              "      <td>1017.600000</td>\n",
              "      <td>1015.200000</td>\n",
              "      <td>5.000000</td>\n",
              "      <td>5.000000</td>\n",
              "      <td>16.700000</td>\n",
              "      <td>21.100000</td>\n",
              "      <td>0.000000</td>\n",
              "      <td>0.000000</td>\n",
              "    </tr>\n",
              "    <tr>\n",
              "      <th>75%</th>\n",
              "      <td>16.800000</td>\n",
              "      <td>28.30000</td>\n",
              "      <td>0.800000</td>\n",
              "      <td>7.400000</td>\n",
              "      <td>10.700000</td>\n",
              "      <td>48.000000</td>\n",
              "      <td>19.000000</td>\n",
              "      <td>24.000000</td>\n",
              "      <td>83.000000</td>\n",
              "      <td>66.000000</td>\n",
              "      <td>1022.400000</td>\n",
              "      <td>1020.000000</td>\n",
              "      <td>7.000000</td>\n",
              "      <td>7.000000</td>\n",
              "      <td>21.600000</td>\n",
              "      <td>26.400000</td>\n",
              "      <td>0.000000</td>\n",
              "      <td>0.000000</td>\n",
              "    </tr>\n",
              "    <tr>\n",
              "      <th>max</th>\n",
              "      <td>33.900000</td>\n",
              "      <td>48.10000</td>\n",
              "      <td>371.000000</td>\n",
              "      <td>145.000000</td>\n",
              "      <td>14.500000</td>\n",
              "      <td>135.000000</td>\n",
              "      <td>130.000000</td>\n",
              "      <td>87.000000</td>\n",
              "      <td>100.000000</td>\n",
              "      <td>100.000000</td>\n",
              "      <td>1041.000000</td>\n",
              "      <td>1039.600000</td>\n",
              "      <td>9.000000</td>\n",
              "      <td>9.000000</td>\n",
              "      <td>40.200000</td>\n",
              "      <td>46.700000</td>\n",
              "      <td>1.000000</td>\n",
              "      <td>1.000000</td>\n",
              "    </tr>\n",
              "  </tbody>\n",
              "</table>\n",
              "</div>"
            ],
            "text/plain": [
              "             MinTemp       MaxTemp  ...      RainToday   RainTomorrow\n",
              "count  140319.000000  140480.00000  ...  140787.000000  140787.000000\n",
              "mean       12.184824      23.23512  ...       0.223423       0.221618\n",
              "std         6.403879       7.11450  ...       0.416541       0.415337\n",
              "min        -8.500000      -4.80000  ...       0.000000       0.000000\n",
              "25%         7.600000      17.90000  ...       0.000000       0.000000\n",
              "50%        12.000000      22.60000  ...       0.000000       0.000000\n",
              "75%        16.800000      28.30000  ...       0.000000       0.000000\n",
              "max        33.900000      48.10000  ...       1.000000       1.000000\n",
              "\n",
              "[8 rows x 18 columns]"
            ]
          },
          "metadata": {
            "tags": []
          },
          "execution_count": 85
        }
      ]
    },
    {
      "cell_type": "markdown",
      "metadata": {
        "id": "nTXlWXFF_qbT"
      },
      "source": [
        "## Preprocessing"
      ]
    },
    {
      "cell_type": "code",
      "metadata": {
        "id": "U5-I8DdG66xN"
      },
      "source": [
        "unique_data = unique_data.select_dtypes(include=np.number)\n",
        "sns.pairplot(unique_data,height=1.8)"
      ],
      "execution_count": null,
      "outputs": []
    },
    {
      "cell_type": "code",
      "metadata": {
        "id": "uMpmTeVbFUjW"
      },
      "source": [
        "unique_data.corr()"
      ],
      "execution_count": null,
      "outputs": []
    },
    {
      "cell_type": "code",
      "metadata": {
        "id": "JP5k0OKyFNmI"
      },
      "source": [
        "plt.figure(figsize=(16,8))\n",
        "plt.title(\"Relationship Between The Features of The Rain Data\")\n",
        "sns.heatmap(unique_data.corr().abs(), annot=True, linewidths = 2, linecolor = \"white\")"
      ],
      "execution_count": null,
      "outputs": []
    },
    {
      "cell_type": "markdown",
      "metadata": {
        "id": "hyS8bU7TYkrF"
      },
      "source": [
        "Handle columns with type Object and not Number"
      ]
    },
    {
      "cell_type": "markdown",
      "metadata": {
        "id": "Naaud_9cYvdF"
      },
      "source": [
        "Location: add geographic coordinate "
      ]
    },
    {
      "cell_type": "code",
      "metadata": {
        "id": "weckC-fSYlYc"
      },
      "source": [
        "data.Location.value_counts().head() "
      ],
      "execution_count": null,
      "outputs": []
    },
    {
      "cell_type": "code",
      "metadata": {
        "id": "owd2SzIfYqQE"
      },
      "source": [
        "data.groupby('Location').agg({'RainToday':'sum'}).sort_values('RainToday', ascending=True).head(20)"
      ],
      "execution_count": null,
      "outputs": []
    },
    {
      "cell_type": "code",
      "metadata": {
        "id": "aAzz4w-EYuk-"
      },
      "source": [
        "# Install Geopandas\n",
        "!pip install git+git://github.com/geopandas/geopandas.git\n",
        "from geopandas.tools import geocode\n",
        "\n",
        "import geopandas"
      ],
      "execution_count": null,
      "outputs": []
    },
    {
      "cell_type": "code",
      "metadata": {
        "id": "aqw06p6FY553"
      },
      "source": [
        "def my_geocoder(row):\n",
        "    try:\n",
        "        point = geocode(row, provider='nominatim').geometry.iloc[0]\n",
        "        return pd.Series({'Latitude': point.y, 'Longitude': point.x, 'geometry': point})\n",
        "    except:\n",
        "        return None"
      ],
      "execution_count": null,
      "outputs": []
    },
    {
      "cell_type": "code",
      "metadata": {
        "id": "hPnZ5dRNZHfN"
      },
      "source": [
        "Location_list = pd.DataFrame(data.Location.unique())\n",
        "Location_list.rename(columns = {0:'Location'},inplace=True)\n",
        "Location_list.head()"
      ],
      "execution_count": null,
      "outputs": []
    },
    {
      "cell_type": "code",
      "metadata": {
        "id": "UIBWcsLSZK-p"
      },
      "source": [
        "Location_list[['Latitude', 'Longitude', 'geometry']] = Location_list.apply(lambda x: my_geocoder(x['Location']), axis=1)"
      ],
      "execution_count": null,
      "outputs": []
    },
    {
      "cell_type": "markdown",
      "metadata": {
        "id": "mJ9rQNksYoIM"
      },
      "source": [
        "Remove unidentifed coordinate"
      ]
    },
    {
      "cell_type": "code",
      "metadata": {
        "id": "V_QVstBzZQVV"
      },
      "source": [
        "len(Location_list)"
      ],
      "execution_count": null,
      "outputs": []
    },
    {
      "cell_type": "code",
      "metadata": {
        "id": "F351pcqbZdIQ"
      },
      "source": [
        "Location_list = Location_list[Location_list['Latitude'].notna()]"
      ],
      "execution_count": null,
      "outputs": []
    },
    {
      "cell_type": "code",
      "metadata": {
        "id": "vpyiQpDZZdoh"
      },
      "source": [
        "len(Location_list) # 36"
      ],
      "execution_count": null,
      "outputs": []
    },
    {
      "cell_type": "code",
      "metadata": {
        "id": "OQcQ7yTtZhXu"
      },
      "source": [
        "plt.scatter(x=Location_list['Longitude'], y=Location_list['Latitude'])\n",
        "plt.show()"
      ],
      "execution_count": null,
      "outputs": []
    },
    {
      "cell_type": "markdown",
      "metadata": {
        "id": "vrQFlpLMZiBG"
      },
      "source": [
        "Remove coortinate the misidentify but not in Australia, for example Newcastel England"
      ]
    },
    {
      "cell_type": "code",
      "metadata": {
        "id": "0SIDkWhhZtK6"
      },
      "source": [
        "Location_list_Australia = Location_list[Location_list['Longitude'] > 50]"
      ],
      "execution_count": null,
      "outputs": []
    },
    {
      "cell_type": "code",
      "metadata": {
        "id": "PQnTqbB2Zxo1"
      },
      "source": [
        "plt.scatter(x=Location_list_Australia['Longitude'], y=Location_list_Australia['Latitude'])\n",
        "plt.show()"
      ],
      "execution_count": null,
      "outputs": []
    },
    {
      "cell_type": "code",
      "metadata": {
        "id": "xLZ6RUUMZz3I"
      },
      "source": [
        "world = geopandas.read_file(geopandas.datasets.get_path('naturalearth_lowres'))\n",
        "world.continent.unique()"
      ],
      "execution_count": null,
      "outputs": []
    },
    {
      "cell_type": "code",
      "metadata": {
        "id": "WcPOug46Z2Fd"
      },
      "source": [
        "Location_list_Australia_geo = geopandas.GeoDataFrame(\n",
        "    Location_list_Australia, geometry=geopandas.points_from_xy(Location_list_Australia.Longitude, Location_list_Australia.Latitude))"
      ],
      "execution_count": null,
      "outputs": []
    },
    {
      "cell_type": "code",
      "metadata": {
        "id": "1sx-r64QZ3xc"
      },
      "source": [
        "len(Location_list_Australia_geo)"
      ],
      "execution_count": null,
      "outputs": []
    },
    {
      "cell_type": "code",
      "metadata": {
        "id": "zCudQxx-Z5xy"
      },
      "source": [
        "Location_list_Australia_geo.head(10)"
      ],
      "execution_count": null,
      "outputs": []
    },
    {
      "cell_type": "markdown",
      "metadata": {
        "id": "0m4WukxhZ--x"
      },
      "source": [
        "Marge into df_merge_col dataframe"
      ]
    },
    {
      "cell_type": "code",
      "metadata": {
        "id": "2ny049UOZ7eh"
      },
      "source": [
        "df_merge_col = pd.merge(data, Location_list_Australia_geo, on='Location')\n",
        "\n",
        "df_merge_col"
      ],
      "execution_count": null,
      "outputs": []
    },
    {
      "cell_type": "markdown",
      "metadata": {
        "id": "LOSJrcpTaJXp"
      },
      "source": [
        "Piant location on Australia Map:"
      ]
    },
    {
      "cell_type": "code",
      "metadata": {
        "id": "8PdJGoo0aKQu"
      },
      "source": [
        "world[world['name'] == 'Australia']"
      ],
      "execution_count": null,
      "outputs": []
    },
    {
      "cell_type": "code",
      "metadata": {
        "id": "ROsaIIBTaNq9"
      },
      "source": [
        "world = geopandas.read_file(geopandas.datasets.get_path('naturalearth_lowres'))\n",
        "\n",
        "# We restrict to South America.\n",
        "ax = world[world.name == 'Australia'].plot(\n",
        "    color='white', edgecolor='black')\n",
        "\n",
        "# We can now plot our ``GeoDataFrame``.\n",
        "Location_list_Australia_geo.plot(ax=ax, color='red')\n",
        "\n",
        "plt.show()"
      ],
      "execution_count": null,
      "outputs": []
    },
    {
      "cell_type": "markdown",
      "metadata": {
        "id": "A9S6-jAE-qD2"
      },
      "source": [
        "# Feature Engineering"
      ]
    },
    {
      "cell_type": "code",
      "metadata": {
        "id": "kt0uBrgG-sxC"
      },
      "source": [
        "unique_data['DiffTemp']= unique_data['MaxTemp'] - unique_data['MinTemp']\n",
        "unique_data.head()"
      ],
      "execution_count": null,
      "outputs": []
    },
    {
      "cell_type": "code",
      "metadata": {
        "id": "vyeBqPLFAqgZ"
      },
      "source": [
        "unique_data['DiffPressure']= unique_data['Pressure9am'] - unique_data['Pressure3pm']\n",
        "unique_data.head()"
      ],
      "execution_count": null,
      "outputs": []
    },
    {
      "cell_type": "code",
      "metadata": {
        "id": "F9WoMRX2Bpgl"
      },
      "source": [
        "unique_data['DiffHumidity']= unique_data['Humidity9am'] - unique_data['Humidity3pm']\n",
        "unique_data.head()"
      ],
      "execution_count": null,
      "outputs": []
    },
    {
      "cell_type": "code",
      "metadata": {
        "id": "vEzlXQ16-uxw"
      },
      "source": [
        "plt.figure(figsize=(16,8))\n",
        "plt.title(\"Relationship Between The Features of The Rain Data\")\n",
        "sns.heatmap(unique_data.corr().abs(), annot=True, linewidths = 2, linecolor = \"white\")"
      ],
      "execution_count": null,
      "outputs": []
    }
  ]
}